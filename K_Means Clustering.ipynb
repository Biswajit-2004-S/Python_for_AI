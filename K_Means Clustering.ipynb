{
 "cells": [
  {
   "cell_type": "code",
   "execution_count": 1,
   "id": "77f4fac6-2d6a-47b8-881c-20fd59cb9354",
   "metadata": {},
   "outputs": [
    {
     "data": {
      "text/html": [
       "<div>\n",
       "<style scoped>\n",
       "    .dataframe tbody tr th:only-of-type {\n",
       "        vertical-align: middle;\n",
       "    }\n",
       "\n",
       "    .dataframe tbody tr th {\n",
       "        vertical-align: top;\n",
       "    }\n",
       "\n",
       "    .dataframe thead th {\n",
       "        text-align: right;\n",
       "    }\n",
       "</style>\n",
       "<table border=\"1\" class=\"dataframe\">\n",
       "  <thead>\n",
       "    <tr style=\"text-align: right;\">\n",
       "      <th></th>\n",
       "      <th>Customer</th>\n",
       "      <th>Gender</th>\n",
       "      <th>Age</th>\n",
       "      <th>Annual Income (k$)</th>\n",
       "      <th>Spending Score (1-100)</th>\n",
       "    </tr>\n",
       "  </thead>\n",
       "  <tbody>\n",
       "    <tr>\n",
       "      <th>0</th>\n",
       "      <td>1</td>\n",
       "      <td>Male</td>\n",
       "      <td>53</td>\n",
       "      <td>39</td>\n",
       "      <td>24</td>\n",
       "    </tr>\n",
       "    <tr>\n",
       "      <th>1</th>\n",
       "      <td>2</td>\n",
       "      <td>Female</td>\n",
       "      <td>54</td>\n",
       "      <td>49</td>\n",
       "      <td>64</td>\n",
       "    </tr>\n",
       "    <tr>\n",
       "      <th>2</th>\n",
       "      <td>3</td>\n",
       "      <td>Male</td>\n",
       "      <td>29</td>\n",
       "      <td>39</td>\n",
       "      <td>99</td>\n",
       "    </tr>\n",
       "    <tr>\n",
       "      <th>3</th>\n",
       "      <td>4</td>\n",
       "      <td>Male</td>\n",
       "      <td>39</td>\n",
       "      <td>43</td>\n",
       "      <td>49</td>\n",
       "    </tr>\n",
       "    <tr>\n",
       "      <th>4</th>\n",
       "      <td>5</td>\n",
       "      <td>Male</td>\n",
       "      <td>42</td>\n",
       "      <td>32</td>\n",
       "      <td>99</td>\n",
       "    </tr>\n",
       "    <tr>\n",
       "      <th>...</th>\n",
       "      <td>...</td>\n",
       "      <td>...</td>\n",
       "      <td>...</td>\n",
       "      <td>...</td>\n",
       "      <td>...</td>\n",
       "    </tr>\n",
       "    <tr>\n",
       "      <th>195</th>\n",
       "      <td>196</td>\n",
       "      <td>Female</td>\n",
       "      <td>30</td>\n",
       "      <td>39</td>\n",
       "      <td>56</td>\n",
       "    </tr>\n",
       "    <tr>\n",
       "      <th>196</th>\n",
       "      <td>197</td>\n",
       "      <td>Female</td>\n",
       "      <td>42</td>\n",
       "      <td>35</td>\n",
       "      <td>30</td>\n",
       "    </tr>\n",
       "    <tr>\n",
       "      <th>197</th>\n",
       "      <td>198</td>\n",
       "      <td>Female</td>\n",
       "      <td>52</td>\n",
       "      <td>50</td>\n",
       "      <td>5</td>\n",
       "    </tr>\n",
       "    <tr>\n",
       "      <th>198</th>\n",
       "      <td>199</td>\n",
       "      <td>Male</td>\n",
       "      <td>25</td>\n",
       "      <td>24</td>\n",
       "      <td>33</td>\n",
       "    </tr>\n",
       "    <tr>\n",
       "      <th>199</th>\n",
       "      <td>200</td>\n",
       "      <td>Male</td>\n",
       "      <td>38</td>\n",
       "      <td>23</td>\n",
       "      <td>65</td>\n",
       "    </tr>\n",
       "  </tbody>\n",
       "</table>\n",
       "<p>200 rows × 5 columns</p>\n",
       "</div>"
      ],
      "text/plain": [
       "     Customer  Gender  Age  Annual Income (k$)  Spending Score (1-100)\n",
       "0           1    Male   53                  39                      24\n",
       "1           2  Female   54                  49                      64\n",
       "2           3    Male   29                  39                      99\n",
       "3           4    Male   39                  43                      49\n",
       "4           5    Male   42                  32                      99\n",
       "..        ...     ...  ...                 ...                     ...\n",
       "195       196  Female   30                  39                      56\n",
       "196       197  Female   42                  35                      30\n",
       "197       198  Female   52                  50                       5\n",
       "198       199    Male   25                  24                      33\n",
       "199       200    Male   38                  23                      65\n",
       "\n",
       "[200 rows x 5 columns]"
      ]
     },
     "execution_count": 1,
     "metadata": {},
     "output_type": "execute_result"
    }
   ],
   "source": [
    "import numpy as np\n",
    "import pandas as pd\n",
    "dataset=pd.read_csv('kmeans_customer_data.csv')\n",
    "dataset"
   ]
  },
  {
   "cell_type": "code",
   "execution_count": 2,
   "id": "95ecce9b-2f74-4ec4-b5a2-a668df68d951",
   "metadata": {},
   "outputs": [],
   "source": [
    "X=dataset.iloc[:, [3,4]].values"
   ]
  },
  {
   "cell_type": "code",
   "execution_count": 3,
   "id": "79690568-4eef-495e-a8fc-d9e7b03fc108",
   "metadata": {},
   "outputs": [
    {
     "data": {
      "text/plain": [
       "array([[ 39,  24],\n",
       "       [ 49,  64],\n",
       "       [ 39,  99],\n",
       "       [ 43,  49],\n",
       "       [ 32,  99],\n",
       "       [ 32,  36],\n",
       "       [ 16,  82],\n",
       "       [ 49,  96],\n",
       "       [ 30,  24],\n",
       "       [ 50,  23],\n",
       "       [ 47,  62],\n",
       "       [ 18,  96],\n",
       "       [ 47,  37],\n",
       "       [ 28,  12],\n",
       "       [ 35,  55],\n",
       "       [ 34,  13],\n",
       "       [ 22,  23],\n",
       "       [ 21,  89],\n",
       "       [ 17,  99],\n",
       "       [ 31,  30],\n",
       "       [ 47,  17],\n",
       "       [ 26,  62],\n",
       "       [ 36,  84],\n",
       "       [ 36,  89],\n",
       "       [ 44,  86],\n",
       "       [ 22,  13],\n",
       "       [ 41,  59],\n",
       "       [ 41,  19],\n",
       "       [ 48,  49],\n",
       "       [ 35, 100],\n",
       "       [ 44,  12],\n",
       "       [ 47,  61],\n",
       "       [ 42,  19],\n",
       "       [ 47,  76],\n",
       "       [ 19,   9],\n",
       "       [ 33,  71],\n",
       "       [ 18,  28],\n",
       "       [ 49,  78],\n",
       "       [ 31,  95],\n",
       "       [ 42,  52],\n",
       "       [ 44,  83],\n",
       "       [ 43,  16],\n",
       "       [ 20,  69],\n",
       "       [ 49,  99],\n",
       "       [ 38,  12],\n",
       "       [ 43,  25],\n",
       "       [ 45,  52],\n",
       "       [ 49,  85],\n",
       "       [ 47, 100],\n",
       "       [ 35,  53],\n",
       "       [ 46,  23],\n",
       "       [ 37,  16],\n",
       "       [ 47,  57],\n",
       "       [ 17,  39],\n",
       "       [ 32,  53],\n",
       "       [ 39,  42],\n",
       "       [ 45,  58],\n",
       "       [ 17,  39],\n",
       "       [ 38,  14],\n",
       "       [ 46,  95],\n",
       "       [ 36,   5],\n",
       "       [ 37,  35],\n",
       "       [ 16,  87],\n",
       "       [ 41,  93],\n",
       "       [ 16,  75],\n",
       "       [ 40,  18],\n",
       "       [ 31,  76],\n",
       "       [ 47,   9],\n",
       "       [ 23,  74],\n",
       "       [ 43,  58],\n",
       "       [ 40,  17],\n",
       "       [ 49,   7],\n",
       "       [ 39,  46],\n",
       "       [ 38,  13],\n",
       "       [ 27,  40],\n",
       "       [ 21,  42],\n",
       "       [ 50,   9],\n",
       "       [ 34,  50],\n",
       "       [ 15,  27],\n",
       "       [ 22,  66],\n",
       "       [ 30,   5],\n",
       "       [ 28,  29],\n",
       "       [ 26,  37],\n",
       "       [ 37,  38],\n",
       "       [ 29,  83],\n",
       "       [ 42,   8],\n",
       "       [ 48,  65],\n",
       "       [ 16,  86],\n",
       "       [ 46,  17],\n",
       "       [ 37,  71],\n",
       "       [ 36,  89],\n",
       "       [ 39,  45],\n",
       "       [ 36,   4],\n",
       "       [ 36,  36],\n",
       "       [ 20,  70],\n",
       "       [ 29,  31],\n",
       "       [ 47,  19],\n",
       "       [ 22,  61],\n",
       "       [ 19,  54],\n",
       "       [ 18,  39],\n",
       "       [ 20,  91],\n",
       "       [ 46,  74],\n",
       "       [ 44,  90],\n",
       "       [ 49,  19],\n",
       "       [ 30,  39],\n",
       "       [ 27,  67],\n",
       "       [ 44,  45],\n",
       "       [ 33,  13],\n",
       "       [ 31,  92],\n",
       "       [ 33,  58],\n",
       "       [ 42,  20],\n",
       "       [ 40,  92],\n",
       "       [ 40,  72],\n",
       "       [ 37,  61],\n",
       "       [ 23,  39],\n",
       "       [ 26,   1],\n",
       "       [ 15,   3],\n",
       "       [ 15,  77],\n",
       "       [ 48,  92],\n",
       "       [ 46,  62],\n",
       "       [ 39,  63],\n",
       "       [ 15,  25],\n",
       "       [ 30,  56],\n",
       "       [ 19,  33],\n",
       "       [ 36,  38],\n",
       "       [ 43,   6],\n",
       "       [ 17,  58],\n",
       "       [ 26,  44],\n",
       "       [ 40,  45],\n",
       "       [ 30,  32],\n",
       "       [ 36,  45],\n",
       "       [ 43,  61],\n",
       "       [ 28,  47],\n",
       "       [ 42,  21],\n",
       "       [ 19,  80],\n",
       "       [ 44,  85],\n",
       "       [ 19,  75],\n",
       "       [ 26,  36],\n",
       "       [ 30,  99],\n",
       "       [ 40,  19],\n",
       "       [ 40,  20],\n",
       "       [ 35,  57],\n",
       "       [ 50,  18],\n",
       "       [ 47,  47],\n",
       "       [ 44,  49],\n",
       "       [ 37,  14],\n",
       "       [ 24,  15],\n",
       "       [ 19,  31],\n",
       "       [ 50,   1],\n",
       "       [ 48,  54],\n",
       "       [ 45,   3],\n",
       "       [ 24,  16],\n",
       "       [ 33,  87],\n",
       "       [ 46,  57],\n",
       "       [ 15,  75],\n",
       "       [ 19,  12],\n",
       "       [ 18,  74],\n",
       "       [ 30,  96],\n",
       "       [ 38,  16],\n",
       "       [ 30,  72],\n",
       "       [ 16,  76],\n",
       "       [ 42,  24],\n",
       "       [ 46,  28],\n",
       "       [ 41,   8],\n",
       "       [ 34,  92],\n",
       "       [ 38,  36],\n",
       "       [ 26,  90],\n",
       "       [ 49,   8],\n",
       "       [ 47,  58],\n",
       "       [ 47,  60],\n",
       "       [ 26,  50],\n",
       "       [ 17,  28],\n",
       "       [ 15,  92],\n",
       "       [ 47,  41],\n",
       "       [ 24, 100],\n",
       "       [ 43,  64],\n",
       "       [ 27,  27],\n",
       "       [ 26,  63],\n",
       "       [ 45,  17],\n",
       "       [ 16,  73],\n",
       "       [ 49,  33],\n",
       "       [ 37,  84],\n",
       "       [ 31,  77],\n",
       "       [ 40,  92],\n",
       "       [ 22,  29],\n",
       "       [ 43,  13],\n",
       "       [ 40,  46],\n",
       "       [ 24,  35],\n",
       "       [ 40,   6],\n",
       "       [ 48,  82],\n",
       "       [ 21,  69],\n",
       "       [ 18,  47],\n",
       "       [ 25,  25],\n",
       "       [ 43,  66],\n",
       "       [ 50,  10],\n",
       "       [ 39,  56],\n",
       "       [ 35,  30],\n",
       "       [ 50,   5],\n",
       "       [ 24,  33],\n",
       "       [ 23,  65]], dtype=int64)"
      ]
     },
     "execution_count": 3,
     "metadata": {},
     "output_type": "execute_result"
    }
   ],
   "source": [
    "X"
   ]
  },
  {
   "cell_type": "markdown",
   "id": "07e723ff-57d1-468a-ad72-6ab49e5da67a",
   "metadata": {},
   "source": [
    "## Elbow Method"
   ]
  },
  {
   "cell_type": "markdown",
   "id": "97ebff24-b761-42fa-912d-c8b1a869dfea",
   "metadata": {},
   "source": [
    "**This is used to initialize how many clusters are needed for our classification**"
   ]
  },
  {
   "cell_type": "code",
   "execution_count": 5,
   "id": "28e1df29-78c4-4ecc-acd3-890332413bc2",
   "metadata": {},
   "outputs": [],
   "source": [
    "from sklearn.cluster import KMeans"
   ]
  },
  {
   "cell_type": "code",
   "execution_count": 6,
   "id": "22a5c21d-38fa-44e0-a4f8-dcaed5776d7f",
   "metadata": {},
   "outputs": [],
   "source": [
    "wcss = []"
   ]
  },
  {
   "cell_type": "code",
   "execution_count": null,
   "id": "8c7e906e-f533-45cc-acea-c94eccd9aea7",
   "metadata": {},
   "outputs": [],
   "source": []
  },
  {
   "cell_type": "code",
   "execution_count": 12,
   "id": "94f5e5ab-081b-4494-8171-567292856012",
   "metadata": {
    "scrolled": true
   },
   "outputs": [
    {
     "name": "stderr",
     "output_type": "stream",
     "text": [
      "C:\\Users\\ASUS\\anaconda3\\Lib\\site-packages\\sklearn\\cluster\\_kmeans.py:1429: UserWarning: KMeans is known to have a memory leak on Windows with MKL, when there are less chunks than available threads. You can avoid it by setting the environment variable OMP_NUM_THREADS=1.\n",
      "  warnings.warn(\n",
      "C:\\Users\\ASUS\\anaconda3\\Lib\\site-packages\\sklearn\\cluster\\_kmeans.py:1429: UserWarning: KMeans is known to have a memory leak on Windows with MKL, when there are less chunks than available threads. You can avoid it by setting the environment variable OMP_NUM_THREADS=1.\n",
      "  warnings.warn(\n",
      "C:\\Users\\ASUS\\anaconda3\\Lib\\site-packages\\sklearn\\cluster\\_kmeans.py:1429: UserWarning: KMeans is known to have a memory leak on Windows with MKL, when there are less chunks than available threads. You can avoid it by setting the environment variable OMP_NUM_THREADS=1.\n",
      "  warnings.warn(\n",
      "C:\\Users\\ASUS\\anaconda3\\Lib\\site-packages\\sklearn\\cluster\\_kmeans.py:1429: UserWarning: KMeans is known to have a memory leak on Windows with MKL, when there are less chunks than available threads. You can avoid it by setting the environment variable OMP_NUM_THREADS=1.\n",
      "  warnings.warn(\n",
      "C:\\Users\\ASUS\\anaconda3\\Lib\\site-packages\\sklearn\\cluster\\_kmeans.py:1429: UserWarning: KMeans is known to have a memory leak on Windows with MKL, when there are less chunks than available threads. You can avoid it by setting the environment variable OMP_NUM_THREADS=1.\n",
      "  warnings.warn(\n",
      "C:\\Users\\ASUS\\anaconda3\\Lib\\site-packages\\sklearn\\cluster\\_kmeans.py:1429: UserWarning: KMeans is known to have a memory leak on Windows with MKL, when there are less chunks than available threads. You can avoid it by setting the environment variable OMP_NUM_THREADS=1.\n",
      "  warnings.warn(\n",
      "C:\\Users\\ASUS\\anaconda3\\Lib\\site-packages\\sklearn\\cluster\\_kmeans.py:1429: UserWarning: KMeans is known to have a memory leak on Windows with MKL, when there are less chunks than available threads. You can avoid it by setting the environment variable OMP_NUM_THREADS=1.\n",
      "  warnings.warn(\n",
      "C:\\Users\\ASUS\\anaconda3\\Lib\\site-packages\\sklearn\\cluster\\_kmeans.py:1429: UserWarning: KMeans is known to have a memory leak on Windows with MKL, when there are less chunks than available threads. You can avoid it by setting the environment variable OMP_NUM_THREADS=1.\n",
      "  warnings.warn(\n",
      "C:\\Users\\ASUS\\anaconda3\\Lib\\site-packages\\sklearn\\cluster\\_kmeans.py:1429: UserWarning: KMeans is known to have a memory leak on Windows with MKL, when there are less chunks than available threads. You can avoid it by setting the environment variable OMP_NUM_THREADS=1.\n",
      "  warnings.warn(\n"
     ]
    }
   ],
   "source": [
    "for i in range (2,11):   # Minimum Cluster value should be one\n",
    "    kmeans = KMeans(n_clusters=i ,random_state=42) # For each value of i that many clusters will be formed\n",
    "    kmeans.fit(X)\n",
    "    wcss.append(kmeans.inertia_)"
   ]
  },
  {
   "cell_type": "code",
   "execution_count": 13,
   "id": "01e88663-6e67-40be-829f-8cd38a8a61c8",
   "metadata": {},
   "outputs": [
    {
     "data": {
      "text/plain": [
       "[64081.00560897436,\n",
       " 40021.0105347579,\n",
       " 29918.88154389423,\n",
       " 22018.894608680792,\n",
       " 19032.88594440753,\n",
       " 16228.689874303516,\n",
       " 14217.336077211077,\n",
       " 12747.186989889575,\n",
       " 10783.72123963955]"
      ]
     },
     "execution_count": 13,
     "metadata": {},
     "output_type": "execute_result"
    }
   ],
   "source": [
    "wcss"
   ]
  },
  {
   "cell_type": "code",
   "execution_count": 14,
   "id": "e5c57f99-7019-4bdc-ae8b-a30fb9cb5a44",
   "metadata": {},
   "outputs": [
    {
     "data": {
      "text/plain": [
       "[<matplotlib.lines.Line2D at 0x172809f0d10>]"
      ]
     },
     "execution_count": 14,
     "metadata": {},
     "output_type": "execute_result"
    },
    {
     "data": {
      "image/png": "[encoded data removed]",
      "text/plain": [
       "<Figure size 640x480 with 1 Axes>"
      ]
     },
     "metadata": {},
     "output_type": "display_data"
    }
   ],
   "source": [
    "import matplotlib.pyplot as plt\n",
    "plt.plot(range(2,11),wcss)"
   ]
  },
  {
   "cell_type": "markdown",
   "id": "8bdaa321-8b03-4bc5-b570-3ba3a1cbb133",
   "metadata": {},
   "source": [
    "**Here we can see it is forming like an acr like structure with a break point at 5 after five the slope is slant which shos it will give similar results thus , 5 will be the appropriate k value for the clusering**"
   ]
  },
  {
   "cell_type": "code",
   "execution_count": 21,
   "id": "3f52cf6f-9217-4bae-941d-68459bc1552d",
   "metadata": {},
   "outputs": [],
   "source": [
    "kmeans = KMeans(n_clusters=5, init='k-means++', random_state=42)"
   ]
  },
  {
   "cell_type": "code",
   "execution_count": 22,
   "id": "525c406f-98ed-48d1-a0cf-a332f9379986",
   "metadata": {},
   "outputs": [
    {
     "name": "stderr",
     "output_type": "stream",
     "text": [
      "C:\\Users\\ASUS\\anaconda3\\Lib\\site-packages\\sklearn\\cluster\\_kmeans.py:1429: UserWarning: KMeans is known to have a memory leak on Windows with MKL, when there are less chunks than available threads. You can avoid it by setting the environment variable OMP_NUM_THREADS=1.\n",
      "  warnings.warn(\n"
     ]
    }
   ],
   "source": [
    "y_means = kmeans.fit_predict(X)"
   ]
  },
  {
   "cell_type": "code",
   "execution_count": 23,
   "id": "14e348ee-5fe3-4c7f-8eec-d7244d1de2bc",
   "metadata": {},
   "outputs": [
    {
     "data": {
      "text/plain": [
       "array([2, 3, 1, 3, 1, 0, 4, 1, 0, 2, 3, 4, 3, 2, 3, 2, 0, 4, 4, 0, 2, 4,\n",
       "       1, 1, 1, 2, 3, 2, 3, 1, 2, 3, 2, 1, 2, 4, 0, 1, 1, 3, 1, 2, 4, 1,\n",
       "       2, 2, 3, 1, 1, 3, 2, 2, 3, 0, 3, 3, 3, 0, 2, 1, 2, 0, 4, 1, 4, 2,\n",
       "       4, 2, 4, 3, 2, 2, 3, 2, 0, 0, 2, 3, 0, 4, 2, 0, 0, 0, 4, 2, 3, 4,\n",
       "       2, 4, 1, 3, 2, 0, 4, 0, 2, 4, 0, 0, 4, 1, 1, 2, 0, 4, 3, 2, 1, 3,\n",
       "       2, 1, 3, 3, 0, 2, 2, 4, 1, 3, 3, 0, 3, 0, 0, 2, 4, 0, 3, 0, 3, 3,\n",
       "       0, 2, 4, 1, 4, 0, 1, 2, 2, 3, 2, 3, 3, 2, 2, 0, 2, 3, 2, 2, 1, 3,\n",
       "       4, 2, 4, 1, 2, 4, 4, 2, 2, 2, 1, 0, 1, 2, 3, 3, 0, 0, 4, 3, 1, 3,\n",
       "       0, 4, 2, 4, 2, 1, 4, 1, 0, 2, 3, 0, 2, 1, 4, 0, 0, 3, 2, 3, 0, 2,\n",
       "       0, 4])"
      ]
     },
     "execution_count": 23,
     "metadata": {},
     "output_type": "execute_result"
    }
   ],
   "source": [
    "y_means"
   ]
  },
  {
   "cell_type": "markdown",
   "id": "5ae35515-b80a-4161-ac78-1acf81f07894",
   "metadata": {},
   "source": [
    "**So here the values are the cluters in which each data set is categorized from 0-4(5 clusters) for all the 200 datas** "
   ]
  },
  {
   "cell_type": "markdown",
   "id": "0d2847fb-7253-42dd-b5eb-db9121da0b1d",
   "metadata": {},
   "source": [
    "### Now Visualizing this :-"
   ]
  },
  {
   "cell_type": "code",
   "execution_count": 25,
   "id": "4fe6d1ab-e3ff-4954-a935-686c1ae09347",
   "metadata": {},
   "outputs": [
    {
     "data": {
      "text/plain": [
       "<matplotlib.collections.PathCollection at 0x1728b4ba000>"
      ]
     },
     "execution_count": 25,
     "metadata": {},
     "output_type": "execute_result"
    },
    {
     "data": {
      "image/png": "[encoded data removed]",
      "text/plain": [
       "<Figure size 640x480 with 1 Axes>"
      ]
     },
     "metadata": {},
     "output_type": "display_data"
    }
   ],
   "source": [
    "plt.scatter(X[y_means ==0,0], X[y_means ==0,1], s=100, c='red', label='Cluster-1')\n",
    "plt.scatter(X[y_means ==1,0], X[y_means ==1,1], s=100, c='blue', label='Cluster-2')\n",
    "plt.scatter(X[y_means ==2,0], X[y_means ==2,1], s=100, c='green', label='Cluster-3')\n",
    "plt.scatter(X[y_means ==3,0], X[y_means ==3,1], s=100, c='yellow', label='Cluster-4')\n",
    "plt.scatter(X[y_means ==4,0], X[y_means ==4,1], s=100, c='cyan', label='Cluster-5')"
   ]
  },
  {
   "cell_type": "code",
   "execution_count": null,
   "id": "ce361c48-790e-4833-bede-64f21093f760",
   "metadata": {},
   "outputs": [],
   "source": []
  }
 ],
 "metadata": {
  "kernelspec": {
   "display_name": "Python [conda env:base] *",
   "language": "python",
   "name": "conda-base-py"
  },
  "language_info": {
   "codemirror_mode": {
    "name": "ipython",
    "version": 3
   },
   "file_extension": ".py",
   "mimetype": "text/x-python",
   "name": "python",
   "nbconvert_exporter": "python",
   "pygments_lexer": "ipython3",
   "version": "3.12.7"
  }
 },
 "nbformat": 4,
 "nbformat_minor": 5
}
