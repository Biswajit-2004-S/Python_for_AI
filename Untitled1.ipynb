{
 "cells": [
  {
   "cell_type": "code",
   "execution_count": 1,
   "id": "8cef8545-728e-4cee-aa03-391420fc412a",
   "metadata": {},
   "outputs": [
    {
     "name": "stdout",
     "output_type": "stream",
     "text": [
      "hello\n"
     ]
    }
   ],
   "source": [
    "print(\"hello\")"
   ]
  },
  {
   "cell_type": "code",
   "execution_count": 17,
   "id": "c2a229ac-0e00-4046-bef6-ef7e718b4551",
   "metadata": {},
   "outputs": [
    {
     "ename": "NameError",
     "evalue": "name 'color' is not defined",
     "output_type": "error",
     "traceback": [
      "\u001b[1;31m---------------------------------------------------------------------------\u001b[0m",
      "\u001b[1;31mNameError\u001b[0m                                 Traceback (most recent call last)",
      "Cell \u001b[1;32mIn[17], line 10\u001b[0m\n\u001b[0;32m      7\u001b[0m         \u001b[38;5;28mprint\u001b[39m(\u001b[38;5;124mf\u001b[39m\u001b[38;5;124m'\u001b[39m\u001b[38;5;124mthe color is \u001b[39m\u001b[38;5;132;01m{\u001b[39;00mcolor\u001b[38;5;132;01m}\u001b[39;00m\u001b[38;5;124m and the brand is \u001b[39m\u001b[38;5;132;01m{\u001b[39;00mbrand\u001b[38;5;132;01m}\u001b[39;00m\u001b[38;5;124m'\u001b[39m)\n\u001b[0;32m      9\u001b[0m A \u001b[38;5;241m=\u001b[39m car(\u001b[38;5;124m\"\u001b[39m\u001b[38;5;124mBlack\u001b[39m\u001b[38;5;124m\"\u001b[39m,\u001b[38;5;124m\"\u001b[39m\u001b[38;5;124mHonda\u001b[39m\u001b[38;5;124m\"\u001b[39m)\n\u001b[1;32m---> 10\u001b[0m A\u001b[38;5;241m.\u001b[39menginee()\n",
      "Cell \u001b[1;32mIn[17], line 7\u001b[0m, in \u001b[0;36mcar.enginee\u001b[1;34m(self)\u001b[0m\n\u001b[0;32m      6\u001b[0m \u001b[38;5;28;01mdef\u001b[39;00m \u001b[38;5;21menginee\u001b[39m(\u001b[38;5;28mself\u001b[39m):\n\u001b[1;32m----> 7\u001b[0m     \u001b[38;5;28mprint\u001b[39m(\u001b[38;5;124mf\u001b[39m\u001b[38;5;124m'\u001b[39m\u001b[38;5;124mthe color is \u001b[39m\u001b[38;5;132;01m{\u001b[39;00mcolor\u001b[38;5;132;01m}\u001b[39;00m\u001b[38;5;124m and the brand is \u001b[39m\u001b[38;5;132;01m{\u001b[39;00mbrand\u001b[38;5;132;01m}\u001b[39;00m\u001b[38;5;124m'\u001b[39m)\n",
      "\u001b[1;31mNameError\u001b[0m: name 'color' is not defined"
     ]
    }
   ],
   "source": [
    "class car:\n",
    "    def __init__(self,color,brand):\n",
    "        self.color=color\n",
    "        self.brand=brand\n",
    "    \n",
    "    def enginee(self):\n",
    "        print(f'the color is {color} and the brand is {brand}')\n",
    "\n",
    "A = car(\"Black\",\"Honda\")\n",
    "A.enginee()\n"
   ]
  },
  {
   "cell_type": "code",
   "execution_count": 16,
   "id": "5c2dbe50-fea3-4d11-8e1f-6013485fed28",
   "metadata": {},
   "outputs": [
    {
     "ename": "NameError",
     "evalue": "name 'color' is not defined",
     "output_type": "error",
     "traceback": [
      "\u001b[1;31m---------------------------------------------------------------------------\u001b[0m",
      "\u001b[1;31mNameError\u001b[0m                                 Traceback (most recent call last)",
      "Cell \u001b[1;32mIn[16], line 2\u001b[0m\n\u001b[0;32m      1\u001b[0m A\u001b[38;5;241m=\u001b[39m car(\u001b[38;5;124m\"\u001b[39m\u001b[38;5;124mBlack\u001b[39m\u001b[38;5;124m\"\u001b[39m,\u001b[38;5;124m\"\u001b[39m\u001b[38;5;124mHonda\u001b[39m\u001b[38;5;124m\"\u001b[39m)\n\u001b[1;32m----> 2\u001b[0m A\u001b[38;5;241m.\u001b[39menginee()\n",
      "Cell \u001b[1;32mIn[4], line 7\u001b[0m, in \u001b[0;36mcar.enginee\u001b[1;34m(self)\u001b[0m\n\u001b[0;32m      6\u001b[0m \u001b[38;5;28;01mdef\u001b[39;00m \u001b[38;5;21menginee\u001b[39m(\u001b[38;5;28mself\u001b[39m):\n\u001b[1;32m----> 7\u001b[0m     \u001b[38;5;28mprint\u001b[39m(\u001b[38;5;124mf\u001b[39m\u001b[38;5;124m\"\u001b[39m\u001b[38;5;124mthe color is \u001b[39m\u001b[38;5;132;01m{\u001b[39;00mcolor\u001b[38;5;132;01m}\u001b[39;00m\u001b[38;5;124m and the brand is \u001b[39m\u001b[38;5;132;01m{\u001b[39;00mbrand\u001b[38;5;132;01m}\u001b[39;00m\u001b[38;5;124m\"\u001b[39m)\n",
      "\u001b[1;31mNameError\u001b[0m: name 'color' is not defined"
     ]
    }
   ],
   "source": [
    "A= car(\"Black\",\"Honda\")\n",
    "A.enginee()"
   ]
  },
  {
   "cell_type": "code",
   "execution_count": 10,
   "id": "962268f7-6ca9-45cc-8b50-5ec07db0aea7",
   "metadata": {},
   "outputs": [
    {
     "name": "stdout",
     "output_type": "stream",
     "text": [
      "62\n",
      "ODM Gear\n",
      "Bastion is not a High Level character.\n",
      "Levi Ackreman is a High Level character.\n",
      "Firefly is not a High Level character.\n"
     ]
    }
   ],
   "source": [
    "class Bulletecho :\n",
    "    def __init__(self,name,level,weapon):\n",
    "        self.name=name\n",
    "        self.level=level\n",
    "        self.weapon=weapon\n",
    "\n",
    "    def highlevel(self):\n",
    "        if self.level>75:\n",
    "            print(f'{self.name} is a High Level character.')\n",
    "        else:\n",
    "            print(f'{self.name} is not a High Level character.')\n",
    "\n",
    "char1=Bulletecho('Bastion',62,'Machine Gun')\n",
    "char2=Bulletecho('Firefly',57,'Sniper')\n",
    "char3=Bulletecho('Levi Ackreman',101,'ODM Gear')\n",
    "print(char1.level)\n",
    "print(char3.weapon)\n",
    "char1.highlevel()\n",
    "char3.highlevel()\n",
    "char2.highlevel()"
   ]
  }
 ],
 "metadata": {
  "kernelspec": {
   "display_name": "Python 3 (ipykernel)",
   "language": "python",
   "name": "python3"
  },
  "language_info": {
   "codemirror_mode": {
    "name": "ipython",
    "version": 3
   },
   "file_extension": ".py",
   "mimetype": "text/x-python",
   "name": "python",
   "nbconvert_exporter": "python",
   "pygments_lexer": "ipython3",
   "version": "3.12.7"
  }
 },
 "nbformat": 4,
 "nbformat_minor": 5
}
